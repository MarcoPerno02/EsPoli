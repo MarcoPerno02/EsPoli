{
  "cells": [
    {
      "cell_type": "markdown",
      "metadata": {
        "id": "Rciz4Yw6Y_LO"
      },
      "source": [
        "#   LAB 04 - Data Mining"
      ]
    },
    {
      "cell_type": "markdown",
      "metadata": {
        "id": "dYv-1LokY_LQ"
      },
      "source": [
        "## Introduction to Python"
      ]
    },
    {
      "cell_type": "markdown",
      "source": [
        "Full Intro: https://dbdmg.polito.it/dbdmg_web/wp-content/uploads/2024/03/1-Python-Programming.pdf"
      ],
      "metadata": {
        "id": "yemg7RA0-5wr"
      }
    },
    {
      "cell_type": "code",
      "source": [
        "# Object Oriented Programming\n",
        "obj.method(arg1, arg2, ecc...)\n",
        "\n",
        "# Data type\n",
        "int, str, float, None, list, set\n",
        "\n",
        "# Import libraries\n",
        "import library_name\n",
        "from library_name import class\n",
        "\n",
        "# loops\n",
        "for el in list_name:\n",
        "    # do something\n",
        "\n",
        "# condition\n",
        "if condition_name:\n",
        "    # do something\n",
        "else:\n",
        "    # do something\n",
        "\n",
        "# print\n",
        "print('string', string)"
      ],
      "metadata": {
        "id": "ze0l5752-nsg"
      },
      "execution_count": null,
      "outputs": []
    },
    {
      "cell_type": "markdown",
      "source": [
        "## Introduction to Python Libraries"
      ],
      "metadata": {
        "id": "3ng84Qbd2U0o"
      }
    },
    {
      "cell_type": "markdown",
      "source": [
        "### Pandas"
      ],
      "metadata": {
        "id": "2Me6QpNA2Y8Q"
      }
    },
    {
      "cell_type": "markdown",
      "source": [
        "Documentation: https://pandas.pydata.org/docs/"
      ],
      "metadata": {
        "id": "r5qoZS7TA9AA"
      }
    },
    {
      "cell_type": "code",
      "source": [
        "import pandas as pd"
      ],
      "metadata": {
        "id": "-gIa3v_yBGVY"
      },
      "execution_count": null,
      "outputs": []
    },
    {
      "cell_type": "markdown",
      "source": [
        "Read data"
      ],
      "metadata": {
        "id": "ot22wvHg4LAt"
      }
    },
    {
      "cell_type": "code",
      "source": [
        "dataframe=pd.read_<TYPE FILE>(filename) # read_csv(), read_excel(), read_txt()"
      ],
      "metadata": {
        "id": "lt2Bupvv4UBP"
      },
      "execution_count": null,
      "outputs": []
    },
    {
      "cell_type": "markdown",
      "source": [
        "Select Features"
      ],
      "metadata": {
        "id": "PRkiUuRu4PA9"
      }
    },
    {
      "cell_type": "code",
      "source": [
        "# drop features\n",
        "dataframe=dataframe.drop(columns=[])\n",
        "\n",
        "# select features\n",
        "feature1=dataframe[feature_name]\n",
        "\n",
        "# see columns\n",
        "columns=dataframe.columns"
      ],
      "metadata": {
        "id": "mNrafPu_4U0m"
      },
      "execution_count": null,
      "outputs": []
    },
    {
      "cell_type": "markdown",
      "source": [
        "### Matplotlib"
      ],
      "metadata": {
        "id": "8Fg-aLSL4ipB"
      }
    },
    {
      "cell_type": "markdown",
      "source": [
        "Documentation: https://matplotlib.org/stable/index.html"
      ],
      "metadata": {
        "id": "ZPf6rd3wCH77"
      }
    },
    {
      "cell_type": "code",
      "source": [
        "from matplotlib.pyplot import plt"
      ],
      "metadata": {
        "id": "zXqInMhWCRDp"
      },
      "execution_count": null,
      "outputs": []
    },
    {
      "cell_type": "markdown",
      "source": [
        "Create Plot"
      ],
      "metadata": {
        "id": "j5lWaWvU4nQ0"
      }
    },
    {
      "cell_type": "code",
      "source": [
        "fig, ax=plt.figure(figsize=(x_size, y_size), dpi=dpi_val) #choose best values empirically"
      ],
      "metadata": {
        "id": "Jp7ms2Ea4qUs"
      },
      "execution_count": null,
      "outputs": []
    },
    {
      "cell_type": "markdown",
      "source": [
        "### Scikit-Learn"
      ],
      "metadata": {
        "id": "WZ94Rl3m2bV8"
      }
    },
    {
      "cell_type": "markdown",
      "source": [
        "Documentation: https://scikit-learn.org/1.5/user_guide.html"
      ],
      "metadata": {
        "id": "SfB8HBlACjlJ"
      }
    },
    {
      "cell_type": "code",
      "source": [
        "from sklearn.class_type import class_name"
      ],
      "metadata": {
        "id": "FLljRw_5Civ_"
      },
      "execution_count": null,
      "outputs": []
    },
    {
      "cell_type": "markdown",
      "source": [
        "Encoding"
      ],
      "metadata": {
        "id": "zpGFtZVH3uPo"
      }
    },
    {
      "cell_type": "code",
      "source": [
        "encoder=EncoderName()\n",
        "encoded=encoder.fit_transform(to_transform)"
      ],
      "metadata": {
        "id": "OZrPGkFm3tVQ"
      },
      "execution_count": null,
      "outputs": []
    },
    {
      "cell_type": "markdown",
      "source": [
        "Classifier"
      ],
      "metadata": {
        "id": "TsRTU0sQ3wOG"
      }
    },
    {
      "cell_type": "code",
      "source": [
        "classifier=ClassifierName(arg1, arg2, arg3) # the arguments may be optional\n",
        "classifier.fit(train_data, train_label)\n",
        "prediction=classifier.predict(test_data)\n",
        "accuracy=accuracy_score(test_label, prediction)"
      ],
      "metadata": {
        "id": "1xyLD27HCh9i"
      },
      "execution_count": null,
      "outputs": []
    },
    {
      "cell_type": "markdown",
      "metadata": {
        "id": "7ZwaY4mpY_LS"
      },
      "source": [
        "#   Exercise 1-3"
      ]
    },
    {
      "cell_type": "code",
      "execution_count": null,
      "metadata": {
        "id": "k9o8XvkKY_LS"
      },
      "outputs": [],
      "source": [
        "# LOAD ALL LIBRARIES"
      ]
    },
    {
      "cell_type": "markdown",
      "metadata": {
        "id": "AsleV1T3Y_LT"
      },
      "source": [
        "## Read file excel \"user.xlsx\""
      ]
    },
    {
      "cell_type": "markdown",
      "metadata": {
        "id": "dLY0wnduY_LT"
      },
      "source": [
        "Load the Users.xls file into the Disk on the left in the File Section (Folder Icon). Next, read the file using pandas by passing the path."
      ]
    },
    {
      "cell_type": "code",
      "execution_count": null,
      "metadata": {
        "id": "dUQIYKW4Y_LU"
      },
      "outputs": [],
      "source": []
    },
    {
      "cell_type": "markdown",
      "metadata": {
        "id": "10kt5j-wY_LU"
      },
      "source": [
        "In a Jupyter Notebook cell, you can print a subset of the representation by simply calling the name of the variable containing the DataFrame."
      ]
    },
    {
      "cell_type": "code",
      "execution_count": null,
      "metadata": {
        "id": "whWwmzMCY_LU",
        "collapsed": true
      },
      "outputs": [],
      "source": [
        "# print dataset\n"
      ]
    },
    {
      "cell_type": "markdown",
      "source": [
        "Remove duplicated elements"
      ],
      "metadata": {
        "id": "MF2zKPgtjTbW"
      }
    },
    {
      "cell_type": "code",
      "source": [],
      "metadata": {
        "id": "fUOSNJFSfArS"
      },
      "execution_count": null,
      "outputs": []
    },
    {
      "cell_type": "markdown",
      "metadata": {
        "id": "9lm0tDORY_LW"
      },
      "source": [
        "## Select Label and apply encoding"
      ]
    },
    {
      "cell_type": "markdown",
      "source": [
        "Separate the dataset into features, referred to as X, and labels, referred to as y.\n"
      ],
      "metadata": {
        "id": "Lek3feG03jzV"
      }
    },
    {
      "cell_type": "code",
      "source": [],
      "metadata": {
        "id": "s1bKufzc4zN8"
      },
      "execution_count": null,
      "outputs": []
    },
    {
      "cell_type": "markdown",
      "source": [
        "Afterwards, utilize Label Encoder to encode the categorical features."
      ],
      "metadata": {
        "id": "HAZ2v2UU4zkq"
      }
    },
    {
      "cell_type": "code",
      "source": [],
      "metadata": {
        "id": "CvwNrlc940e7"
      },
      "execution_count": null,
      "outputs": []
    },
    {
      "cell_type": "markdown",
      "metadata": {
        "id": "2TJ0WRKtY_LW"
      },
      "source": [
        "##  Use the decision tree classifier model."
      ]
    },
    {
      "cell_type": "markdown",
      "metadata": {
        "id": "RzxHIXAvY_LX"
      },
      "source": [
        "[Use DecisionTreeClassifier() and its .fit function]"
      ]
    },
    {
      "cell_type": "code",
      "execution_count": null,
      "metadata": {
        "id": "a-URIfkjY_LX"
      },
      "outputs": [],
      "source": [
        "# Initialize the Decision Tree Classifier, set criterion and max depth\n",
        "\n",
        "# Train the Decision Tree Classifier\n"
      ]
    },
    {
      "cell_type": "markdown",
      "source": [
        "Obiettivo: Controllare la complessità del modello (profondità) e vedere l’accuratezza complessiva sul set di addestramento."
      ],
      "metadata": {
        "id": "aN2DpskzkWZj"
      }
    },
    {
      "cell_type": "markdown",
      "metadata": {
        "id": "svPYGgLoY_LX"
      },
      "source": [
        "##  Print the structure of the decision tree"
      ]
    },
    {
      "cell_type": "code",
      "execution_count": null,
      "metadata": {
        "id": "vvxBxLRiY_LY",
        "collapsed": true
      },
      "outputs": [],
      "source": [
        "# Define figure\n",
        "\n",
        "# Print Tree\n",
        "\n",
        "# use plot_tree from sklearn\n"
      ]
    },
    {
      "cell_type": "code",
      "source": [
        "# Decision tree depth\n"
      ],
      "metadata": {
        "id": "aRc0kxG3KKdB"
      },
      "execution_count": null,
      "outputs": []
    },
    {
      "cell_type": "markdown",
      "source": [
        "## Impact Parameters"
      ],
      "metadata": {
        "id": "avxFG0gWJfbP"
      }
    },
    {
      "cell_type": "markdown",
      "source": [
        "Evaluate the Tree by combining differen max depth and min impurity values"
      ],
      "metadata": {
        "id": "rk6q4lzpIxhq"
      }
    },
    {
      "cell_type": "code",
      "source": [
        "# Hint: use two nested loops"
      ],
      "metadata": {
        "id": "D8onLCnxiovx"
      },
      "execution_count": null,
      "outputs": []
    },
    {
      "cell_type": "markdown",
      "metadata": {
        "id": "oaU2GR0eY_La"
      },
      "source": [
        "# Exercise 4-5"
      ]
    },
    {
      "cell_type": "markdown",
      "metadata": {
        "id": "j5tLnjxKY_Lf"
      },
      "source": [
        "## Validation of a classification model using Cross Validation\n",
        "\n",
        "Cross-validation is a technique used to assess the performance and generalization ability of machine learning models, particularly in the context of classification tasks. It involves partitioning the dataset into multiple subsets, known as folds.\n",
        "\n",
        "1. **Partitioning the Dataset**: The dataset is divided into k equal-sized folds.\n",
        "\n",
        "2. **Training and Testing**: The model is trained k times, each time using k-1 folds for training and the remaining fold for testing.\n",
        "\n",
        "3. **Evaluation**: The performance of the model is evaluated on each fold, and the results are averaged to obtain a robust estimate of the model's performance.\n",
        "\n",
        "4. **Advantages**: Cross-validation provides a more reliable estimate of the model's performance compared to a single train-test split. It helps to detect overfitting and assesses the model's ability to generalize to unseen data.\n",
        "\n",
        "[Use `cross_val_score` and `cross_val_predict` to perform cross-validation easily. Follow the same instruction of Exercise 1 to initialise and use the model]"
      ]
    },
    {
      "cell_type": "code",
      "execution_count": null,
      "metadata": {
        "id": "u_InGsE8Y_Lf"
      },
      "outputs": [],
      "source": [
        "# Initialize the decision tree classifier\n",
        "\n",
        "# Perform cross-validation predictions\n",
        "\n",
        "# Confusion matrix\n",
        "\n",
        "# Evaluate accuracy"
      ]
    },
    {
      "cell_type": "code",
      "source": [
        "# Initialize the decision tree classifier\n",
        "\n",
        "# Perform StandardScaler\n",
        "\n",
        "# Perform cross-validation predictions\n",
        "\n",
        "# Confusion matrix\n",
        "\n",
        "# Evaluate accuracy"
      ],
      "metadata": {
        "id": "PRGZf8URZiwr"
      },
      "execution_count": null,
      "outputs": []
    },
    {
      "cell_type": "code",
      "source": [
        "# Initialize the Naive Bayes classifier\n",
        "\n",
        "# Perform cross-validation predictions\n",
        "\n",
        "# Confusion matrix\n",
        "\n",
        "# Evaluate accuracy"
      ],
      "metadata": {
        "id": "_G7xunLra-CJ"
      },
      "execution_count": null,
      "outputs": []
    },
    {
      "cell_type": "markdown",
      "source": [
        "# Exercise 6"
      ],
      "metadata": {
        "id": "G6FDXYH99WUL"
      }
    },
    {
      "cell_type": "code",
      "source": [
        "# Perform Correlation Analysis using only numerical features\n"
      ],
      "metadata": {
        "id": "MGM09BIac2qu"
      },
      "execution_count": null,
      "outputs": []
    }
  ],
  "metadata": {
    "kernelspec": {
      "display_name": "Python 3",
      "name": "python3"
    },
    "language_info": {
      "codemirror_mode": {
        "name": "ipython",
        "version": 3
      },
      "file_extension": ".py",
      "mimetype": "text/x-python",
      "name": "python",
      "nbconvert_exporter": "python",
      "pygments_lexer": "ipython3",
      "version": "3.11.6"
    },
    "colab": {
      "provenance": [],
      "gpuType": "T4",
      "collapsed_sections": [
        "WZ94Rl3m2bV8"
      ]
    }
  },
  "nbformat": 4,
  "nbformat_minor": 0
}