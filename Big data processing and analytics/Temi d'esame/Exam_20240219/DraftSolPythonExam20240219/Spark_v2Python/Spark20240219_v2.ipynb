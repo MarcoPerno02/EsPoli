{
 "cells": [
  {
   "cell_type": "code",
   "execution_count": null,
   "id": "b51e156f",
   "metadata": {},
   "outputs": [],
   "source": [
    "purchasePath = \"data/Purchases.txt\"\n",
    "# usersPath = \"data/Users.txt\"\n",
    "cataloguePath = \"data/Catalogue.txt\"\n",
    "\n",
    "outputPath1 = \"outPart1/\"\n",
    "outputPath2 = \"outPart2/\""
   ]
  },
  {
   "cell_type": "code",
   "execution_count": null,
   "id": "2bb6ab1d",
   "metadata": {},
   "outputs": [],
   "source": [
    "# Define the rdds associated with Purchases and Catalogue\n",
    "# SaleTimestamp,UserID,ItemID,SalePrice\n",
    "purchaseRDD = sc.textFile(purchasePath)\n",
    "\n",
    "# ItemID,Name,Category,StillInProduction\n",
    "catalogueRDD = sc.textFile(cataloguePath)"
   ]
  },
  {
   "cell_type": "code",
   "execution_count": null,
   "id": "1292a6fa",
   "metadata": {},
   "outputs": [],
   "source": [
    "#########################################\n",
    "# PART 1\n",
    "#########################################"
   ]
  },
  {
   "cell_type": "code",
   "execution_count": null,
   "id": "ac016c3c",
   "metadata": {},
   "outputs": [],
   "source": [
    "# filter and keep only the purchases in year 2022 and year 2023\n",
    "purchases2223 = purchaseRDD\\\n",
    "    .filter(lambda s: s.startswith(\"2023\") or s.startswith(\"2022\"))\\\n",
    "    .cache()"
   ]
  },
  {
   "cell_type": "code",
   "execution_count": null,
   "id": "50604093",
   "metadata": {},
   "outputs": [],
   "source": [
    "# count for each user and year the number of purchases the user made\n",
    "# key = userId\n",
    "# value = (count2022, count2023)\n",
    "# and use a reduceByKey to count the number of purchases for each year 2002 and 2023 separately\n",
    "\n",
    "def userIdCounters(line):\n",
    "    fields = line.split(\",\")\n",
    "    userId = fields[1]\n",
    "    year = fields[0].split(\"/\")[0]\n",
    "    \n",
    "    if(year==\"2022\"):\n",
    "        return (userId, (1,0)) # add 1 to count2022, 0 to count2023\n",
    "    else:\n",
    "        return (userId, (0,1)) # add 1 to count2023, 0 to count2022\n",
    "\n",
    "\n",
    "userCountPurchases2223 = purchases2223.map(userIdCounters)\\\n",
    "    .reduceByKey(lambda a,b: (a[0]+b[0], a[1]+b[1])).cache() # total count 2022 , total count 2023"
   ]
  },
  {
   "cell_type": "code",
   "execution_count": null,
   "id": "9d7ecf88",
   "metadata": {},
   "outputs": [],
   "source": [
    "# compute for each year 2022 and 2023, the maximum number of purchases among all users\n",
    "maxPurchases2223 = userCountPurchases2223.values()\\\n",
    "    .reduce(lambda a,b: (max(a[0],b[0]),max(a[1],b[1]))) #  (max 2022, max 2023)\n",
    "\n",
    "\n",
    "max22 = maxPurchases2223[0]\n",
    "max23 = maxPurchases2223[1]"
   ]
  },
  {
   "cell_type": "code",
   "execution_count": null,
   "id": "a0c953e9",
   "metadata": {},
   "outputs": [],
   "source": [
    "# filter the JavaPairRDD userCountPurchases2223 \n",
    "# by keeping only the records with value part (count of purchases) equal to max22 or max23\n",
    "# and then return only the unique users (keys)\n",
    "res1 = userCountPurchases2223\\\n",
    "    .filter(lambda x: (x[1][0] == max22 or x[1][1] == max23))\\\n",
    "    .keys()"
   ]
  },
  {
   "cell_type": "code",
   "execution_count": null,
   "id": "58dd2025",
   "metadata": {},
   "outputs": [],
   "source": [
    "# Store the result of Part 1\n",
    "res1.saveAsTextFile(outputPath1)"
   ]
  },
  {
   "cell_type": "code",
   "execution_count": null,
   "id": "049854b1",
   "metadata": {},
   "outputs": [],
   "source": []
  },
  {
   "cell_type": "code",
   "execution_count": null,
   "id": "4fc9f26b",
   "metadata": {},
   "outputs": [],
   "source": [
    "#########################################\n",
    "# PART 2 - v2\n",
    "#########################################"
   ]
  },
  {
   "cell_type": "code",
   "execution_count": null,
   "id": "83c8a29b",
   "metadata": {},
   "outputs": [],
   "source": [
    "# considering the purchases in year 2022/2023 (purchases2223 RDD)\n",
    "# we use a mapToPair with\n",
    "# key = itemID\n",
    "# value = userID\n",
    "# and a distinct to obtain the distinct user-product purchases,\n",
    "# a perform a map + reduceByKey to count for each itemID,\n",
    "# the number of distinct users who bought that item\n",
    "# key = itemID\n",
    "# value = numberOfDistinctUsersPurchases\n",
    "\n",
    "def ItemUser(line):\n",
    "    fields = line.split(\",\")\n",
    "    userId = fields[1]\n",
    "    itemId = fields[2]\n",
    "    \n",
    "    return (itemId, userId)\n",
    "\n",
    "itemDistinctUsersPurchases = purchases2223\\\n",
    "                            .map(ItemUser)\\\n",
    "                            .distinct()\\\n",
    "                            .map(lambda t: (t[0], 1))\\\n",
    "                            .reduceByKey(lambda v1, v2: v1 + v2)"
   ]
  },
  {
   "cell_type": "code",
   "execution_count": null,
   "id": "83a85143",
   "metadata": {},
   "outputs": [],
   "source": [
    "# for each item, we retrieve the corresponding category\n",
    "\n",
    "def ItemCategory(line):\n",
    "    fields = line.split(\",\")\n",
    "    itemId = fields[0]\n",
    "    category = fields[2]\n",
    "    \n",
    "    return (itemId, category)\n",
    "    \n",
    "\n",
    "itemCategory = catalogueRDD.map(ItemCategory).cache()"
   ]
  },
  {
   "cell_type": "code",
   "execution_count": null,
   "id": "1b7c0369",
   "metadata": {},
   "outputs": [],
   "source": [
    "# leftOuterJoin itemCategory RDD with itemDistinctUsersPurchases\n",
    "# A leftOuterJoin is used to consider the 0-case,\n",
    "# i.e. the case in which ALL items in a category were not sold\n",
    "# consequently, we replace missing count values with 0 using a map\n",
    "# key = itemId\n",
    "# value = category, number of distinct users who purchased the item\n",
    "\n",
    "def itemIdCatNumDistUsers(t):\n",
    "    itemId=t[0]\n",
    "    category=t[1][0]\n",
    "    numDistUsers=t[1][1]\n",
    "    \n",
    "    if (numDistUsers is None):\n",
    "        numDistUsers=0\n",
    "        \n",
    "    return (itemId, (category,numDistUsers))\n",
    "\n",
    "\n",
    "itemCategoryPurchases = itemCategory.leftOuterJoin(itemDistinctUsersPurchases)\\\n",
    "                .map(itemIdCatNumDistUsers)\\\n",
    "                .cache()"
   ]
  },
  {
   "cell_type": "code",
   "execution_count": null,
   "id": "0be7ed0e",
   "metadata": {},
   "outputs": [],
   "source": [
    "# compute for each category the maximum number distinct users who purchased the item\n",
    "# first, we obtain the following RDD\n",
    "# key = category\n",
    "# value = number of distinct users who purchased an item\n",
    "# and then we use a reduceByKey to compute the maximum value for each category\n",
    "maxDistinctUsersPurchasesPerCategory = itemCategoryPurchases\\\n",
    "                                    .map(lambda t:  (t[1][0], t[1][1]))\\\n",
    "                                    .reduceByKey(lambda v1, v2: max(v1, v2))"
   ]
  },
  {
   "cell_type": "code",
   "execution_count": null,
   "id": "50b65a20",
   "metadata": {},
   "outputs": [],
   "source": [
    "# map itemCategoryPurchases to ( (category, distUsers), itemId )\n",
    "catNumUsersItem=itemCategoryPurchases.map(lambda t: (t[1], t[0]))"
   ]
  },
  {
   "cell_type": "code",
   "execution_count": null,
   "id": "9b9e530f",
   "metadata": {},
   "outputs": [],
   "source": [
    "# map maxDistinctUsersPurchasesPerCategory to ( (category, maxDistUsers), None)\n",
    "catMaxDistinctUsersNone=maxDistinctUsersPurchasesPerCategory.map(lambda t: (t, None))"
   ]
  },
  {
   "cell_type": "code",
   "execution_count": null,
   "id": "69c6f6f7",
   "metadata": {},
   "outputs": [],
   "source": [
    "# join catNumUsersItem with catMaxDistinctUsersNone\n",
    "# after join, format is\n",
    "# key = (category, numDistUsers)\n",
    "# value = (itemId, None)\n",
    "# then, use a map to obtain the format for the result\n",
    "# key = category\n",
    "# value = itemId OR \"NoPurchases\"\n",
    "# final distinct is used to remove duplicated \"NoPurchases\" when a category with no purchases has many items. \n",
    "\n",
    "def CatItemId(t):\n",
    "    category = t[0][0]\n",
    "    numDistUsers = t[0][1]\n",
    "    itemId = t[1][0]\n",
    "    \n",
    "    \n",
    "    if (numDistUsers==0):\n",
    "        itemId=\"NoPurchases\"\n",
    "    \n",
    "    return (category, itemId);\n",
    "    \n",
    "\n",
    "res2V2Final = catNumUsersItem.join(catMaxDistinctUsersNone)\\\n",
    "        .map(CatItemId)\\\n",
    "        .distinct()"
   ]
  },
  {
   "cell_type": "code",
   "execution_count": null,
   "id": "8e65d4fc",
   "metadata": {},
   "outputs": [],
   "source": [
    "res2V2Final.saveAsTextFile(outputPath2)"
   ]
  },
  {
   "cell_type": "code",
   "execution_count": null,
   "id": "b272ebef",
   "metadata": {},
   "outputs": [],
   "source": []
  }
 ],
 "metadata": {
  "kernelspec": {
   "display_name": "Python 3",
   "language": "python",
   "name": "python3"
  },
  "language_info": {
   "codemirror_mode": {
    "name": "ipython",
    "version": 3
   },
   "file_extension": ".py",
   "mimetype": "text/x-python",
   "name": "python",
   "nbconvert_exporter": "python",
   "pygments_lexer": "ipython3",
   "version": "3.10.12"
  }
 },
 "nbformat": 4,
 "nbformat_minor": 5
}
