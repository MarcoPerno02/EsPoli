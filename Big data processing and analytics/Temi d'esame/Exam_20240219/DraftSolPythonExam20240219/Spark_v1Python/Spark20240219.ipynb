{
 "cells": [
  {
   "cell_type": "code",
   "execution_count": null,
   "id": "7f5785dc",
   "metadata": {},
   "outputs": [],
   "source": [
    "purchasePath = \"data/Purchases.txt\"\n",
    "# usersPath = \"data/Users.txt\"\n",
    "cataloguePath = \"data/Catalogue.txt\"\n",
    "\n",
    "outputPath1 = \"outPart1/\"\n",
    "outputPath2 = \"outPart2/\""
   ]
  },
  {
   "cell_type": "code",
   "execution_count": null,
   "id": "5c51c30b",
   "metadata": {},
   "outputs": [],
   "source": [
    "# Define the rdds associated with Purchases and Catalogue\n",
    "# SaleTimestamp,UserID,ItemID,SalePrice\n",
    "purchaseRDD = sc.textFile(purchasePath)\n",
    "\n",
    "# ItemID,Name,Category,StillInProduction\n",
    "catalogueRDD = sc.textFile(cataloguePath)"
   ]
  },
  {
   "cell_type": "code",
   "execution_count": null,
   "id": "8d3e4ddc",
   "metadata": {},
   "outputs": [],
   "source": [
    "#########################################\n",
    "# PART 1\n",
    "#########################################"
   ]
  },
  {
   "cell_type": "code",
   "execution_count": null,
   "id": "8845e9a1",
   "metadata": {},
   "outputs": [],
   "source": [
    "# filter and keep only the purchases in year 2022 and year 2023\n",
    "purchases2223 = purchaseRDD\\\n",
    "    .filter(lambda s: s.startswith(\"2023\") or s.startswith(\"2022\"))\\\n",
    "    .cache()"
   ]
  },
  {
   "cell_type": "code",
   "execution_count": null,
   "id": "90934203",
   "metadata": {},
   "outputs": [],
   "source": [
    "# count for each user and year the number of purchases the user made\n",
    "# key = userId\n",
    "# value = (count2022, count2023)\n",
    "# and use a reduceByKey to count the number of purchases for each year 2002 and 2023 separately\n",
    "\n",
    "def userIdCounters(line):\n",
    "    fields = line.split(\",\")\n",
    "    userId = fields[1]\n",
    "    year = fields[0].split(\"/\")[0]\n",
    "    \n",
    "    if(year==\"2022\"):\n",
    "        return (userId, (1,0)) # add 1 to count2022, 0 to count2023\n",
    "    else:\n",
    "        return (userId, (0,1)) # add 1 to count2023, 0 to count2022\n",
    "\n",
    "\n",
    "userCountPurchases2223 = purchases2223.map(userIdCounters)\\\n",
    "    .reduceByKey(lambda a,b: (a[0]+b[0], a[1]+b[1])).cache() # total count 2022 , total count 2023"
   ]
  },
  {
   "cell_type": "code",
   "execution_count": null,
   "id": "ae2d2ef1",
   "metadata": {},
   "outputs": [],
   "source": [
    "# compute for each year 2022 and 2023, the maximum number of purchases among all users\n",
    "maxPurchases2223 = userCountPurchases2223.values()\\\n",
    "    .reduce(lambda a,b: (max(a[0],b[0]),max(a[1],b[1]))) #  (max 2022, max 2023)\n",
    "\n",
    "\n",
    "max22 = maxPurchases2223[0]\n",
    "max23 = maxPurchases2223[1]"
   ]
  },
  {
   "cell_type": "code",
   "execution_count": null,
   "id": "c5f3abc0",
   "metadata": {},
   "outputs": [],
   "source": [
    "# filter the JavaPairRDD userCountPurchases2223 \n",
    "# by keeping only the records with value part (count of purchases) equal to max22 or max23\n",
    "# and then return only the unique users (keys)\n",
    "res1 = userCountPurchases2223\\\n",
    "    .filter(lambda x: (x[1][0] == max22 or x[1][1] == max23))\\\n",
    "    .keys()"
   ]
  },
  {
   "cell_type": "code",
   "execution_count": null,
   "id": "4149d143",
   "metadata": {},
   "outputs": [],
   "source": [
    "# Store the result of Part 1\n",
    "res1.saveAsTextFile(outputPath1)"
   ]
  },
  {
   "cell_type": "code",
   "execution_count": null,
   "id": "3600d957",
   "metadata": {},
   "outputs": [],
   "source": []
  },
  {
   "cell_type": "code",
   "execution_count": null,
   "id": "b681c5ee",
   "metadata": {},
   "outputs": [],
   "source": [
    "#########################################\n",
    "# PART 2 - v1\n",
    "#########################################"
   ]
  },
  {
   "cell_type": "code",
   "execution_count": null,
   "id": "0ade0025",
   "metadata": {},
   "outputs": [],
   "source": [
    "# considering the purchases in year 2022/2023 (purchases2223 RDD)\n",
    "# we use a mapToPair with\n",
    "# key = itemID\n",
    "# value = userID\n",
    "# and a distinct to obtain the distinct user-product purchases,\n",
    "# a perform a map + reduceByKey to count for each itemID,\n",
    "# the number of distinct users who bought that item\n",
    "# key = itemID\n",
    "# value = numberOfDistinctUsersPurchases\n",
    "\n",
    "def ItemUser(line):\n",
    "    fields = line.split(\",\")\n",
    "    userId = fields[1]\n",
    "    itemId = fields[2]\n",
    "    \n",
    "    return (itemId, userId)\n",
    "\n",
    "itemDistinctUsersPurchases = purchases2223\\\n",
    "                            .map(ItemUser)\\\n",
    "                            .distinct()\\\n",
    "                            .map(lambda t: (t[0], 1))\\\n",
    "                            .reduceByKey(lambda v1, v2: v1 + v2)"
   ]
  },
  {
   "cell_type": "code",
   "execution_count": null,
   "id": "a9df41d6",
   "metadata": {},
   "outputs": [],
   "source": [
    "# for each item, we retrieve the corresponding category\n",
    "\n",
    "def ItemCategory(line):\n",
    "    fields = line.split(\",\")\n",
    "    itemId = fields[0]\n",
    "    category = fields[2]\n",
    "    \n",
    "    return (itemId, category)\n",
    "    \n",
    "\n",
    "itemCategory = catalogueRDD.map(ItemCategory).cache()"
   ]
  },
  {
   "cell_type": "code",
   "execution_count": null,
   "id": "35c60cd3",
   "metadata": {},
   "outputs": [],
   "source": [
    "# join itemCategory RDD with itemDistinctUsersPurchases\n",
    "itemCategoryPurchases = itemCategory.join(itemDistinctUsersPurchases)\\\n",
    "                        .cache()"
   ]
  },
  {
   "cell_type": "code",
   "execution_count": null,
   "id": "e0e6cb9c",
   "metadata": {},
   "outputs": [],
   "source": [
    "# compute for each category the maximum number distinct users who purchased the item\n",
    "# first, we obtain the following RDD\n",
    "# key = category\n",
    "# value = number of distinct users who purchased an item\n",
    "# and then we use a reduceByKey to compute the maximum value for each category\n",
    "maxDistinctUsersPurchasesPerCategory = itemCategoryPurchases\\\n",
    "                                    .map(lambda t:  (t[1][0], t[1][1]))\\\n",
    "                                    .reduceByKey(lambda v1, v2: max(v1, v2))"
   ]
  },
  {
   "cell_type": "code",
   "execution_count": null,
   "id": "7da0772e",
   "metadata": {},
   "outputs": [],
   "source": [
    "# map itemCategoryPurchases to ( (category, numPurchases), itemid), join with maxDistinctUsersPurchasesPerCategory \n",
    "# (first map to ((category, maxPurchases), None))\n",
    "# after join, format is\n",
    "# key = (category,numPurchases)\n",
    "# value = (itemId, None),\n",
    "# then, use a map to obtain the format for the result\n",
    "# key = category\n",
    "# value = itemId\n",
    "\n",
    "def CatItemId(t):\n",
    "    category = t[0][0]\n",
    "    itemId = t[1][0]\n",
    "    \n",
    "    return (category, itemId)\n",
    "\n",
    "\n",
    "res2Partial = itemCategoryPurchases\\\n",
    "        .map(lambda t: ( (t[1][0], t[1][1]), t[0]))\\\n",
    "        .join(maxDistinctUsersPurchasesPerCategory.map(lambda tmax: (tmax, None)))\\\n",
    "        .map(CatItemId)\n",
    "\n",
    "\n",
    "# Alternative solution for this step\n",
    "#\n",
    "# map itemCategoryPurchases to (category, (itemid, numPurchases), join with maxDistinctUsersPurchasesPerCategory\n",
    "# and filter, keeping only the entries with numPurchases == maxPurchases\n",
    "# after join, format is\n",
    "# key = category\n",
    "# value = (itemId, numPurchases), maxPurchasesPerCategory\n",
    "# then, use a map to obtain the format for the result\n",
    "# key = category\n",
    "# value = itemId\n",
    "\n",
    "#def CatItemId(t):\n",
    "#    category = t[0]\n",
    "#    itemId = t[1][0][0]\n",
    "#    \n",
    "#    return (category, itemId)\n",
    "#    \n",
    "#\n",
    "#res2Partial = itemCategoryPurchases\\\n",
    "#        .map(lambda t: (t[1][0], (t[0], t[1][1])))\\\n",
    "#        .join(maxDistinctUsersPurchasesPerCategory)\\\n",
    "#        .filter(lambda t: t[1][0][1] == t[1][1])\\\n",
    "#        .map(CatItemId)"
   ]
  },
  {
   "cell_type": "code",
   "execution_count": null,
   "id": "2724f7fe",
   "metadata": {},
   "outputs": [],
   "source": [
    "# from res2Partial we need to add the 0-case, i.e., categories with items which were never purchased.\n",
    "# Consider all distinct categories (itemCategory.values().distinct()) and subtract those in res2Partial.\n",
    "# At the end, map the selected categories to pairs\n",
    "# key = category\n",
    "# value = \"NoPurchases\"\n",
    "unsoldCategories = itemCategory.values().distinct()\\\n",
    "        .subtract(res2Partial.keys())\\\n",
    "        .map(lambda cat: (cat, \"NoPurchases\"))"
   ]
  },
  {
   "cell_type": "code",
   "execution_count": null,
   "id": "0c520a22",
   "metadata": {},
   "outputs": [],
   "source": [
    "# update the result of the second part with a final Union\n",
    "res2Final = res2Partial.union(unsoldCategories)"
   ]
  },
  {
   "cell_type": "code",
   "execution_count": null,
   "id": "acbbf0d3",
   "metadata": {},
   "outputs": [],
   "source": [
    "res2Final.saveAsTextFile(outputPath2)"
   ]
  },
  {
   "cell_type": "code",
   "execution_count": null,
   "id": "5773b838",
   "metadata": {},
   "outputs": [],
   "source": []
  },
  {
   "cell_type": "code",
   "execution_count": null,
   "id": "4eece1d1",
   "metadata": {},
   "outputs": [],
   "source": []
  }
 ],
 "metadata": {
  "kernelspec": {
   "display_name": "Python 3",
   "language": "python",
   "name": "python3"
  },
  "language_info": {
   "codemirror_mode": {
    "name": "ipython",
    "version": 3
   },
   "file_extension": ".py",
   "mimetype": "text/x-python",
   "name": "python",
   "nbconvert_exporter": "python",
   "pygments_lexer": "ipython3",
   "version": "3.10.12"
  }
 },
 "nbformat": 4,
 "nbformat_minor": 5
}
