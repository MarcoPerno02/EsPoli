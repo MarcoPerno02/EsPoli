{
 "cells": [
  {
   "cell_type": "code",
   "execution_count": 69,
   "metadata": {},
   "outputs": [],
   "source": [
    "# Importiamo le librerie necessarie\n",
    "from pyspark.sql import SparkSession\n",
    "from pyspark.sql.types import StructType, StructField, StringType, IntegerType, DateType, DoubleType, TimestampType\n",
    "from pyspark.sql.functions import col, year, sum, to_timestamp, count, expr, max, count_distinct, expr, when, avg, min\n",
    "from pyspark.sql import Window\n",
    "from pyspark.sql.dataframe import DataFrame\n",
    "import numpy as np\n",
    "\n",
    "# df_updated = df.withColumns({\n",
    "#     \"Country\": when((col(\"Country\") == \"America\") & (col(\"Population\") > 10000), \"North America\").otherwise(col(\"Country\")),\n",
    "#     \"Region\": when((col(\"Country\") == \"America\") & (col(\"Population\") > 10000), \"NA\").otherwise(col(\"Region\"))\n",
    "# })\n",
    "\n",
    "# df_updated = df.withColumn(\n",
    "#     \"Country\",\n",
    "#     when(col(\"Country\") == \"America\", \n",
    "#          when(col(\"Population\") > 10000, \"North America\")\n",
    "#          .when(col(\"Population\") > 5000, \"Central America\")\n",
    "#          .otherwise(\"South America\"))\n",
    "#     .otherwise(col(\"Country\"))\n",
    "# )\n",
    "\n",
    "# df_updated = df.withColumn(\n",
    "#     \"Country\",\n",
    "#     expr(\"CASE WHEN Country = 'America' AND Population > 10000 THEN 'North America' ELSE Country END\")\n",
    "# )\n",
    "\n",
    "# CASE \n",
    "#     WHEN Country = 'America' AND Population > 10000 THEN 'North America' \n",
    "#     WHEN Country = 'America' AND Population > 5000 THEN 'Central America'\n",
    "#     WHEN Country = 'America' THEN 'South America' \n",
    "#     ELSE Country\n",
    "# END\n",
    "\n",
    "\n",
    "# Supponiamo che SparkSession sia già stato creato\n",
    "ss: SparkSession = SparkSession.builder.appName(\"PoliSalesAnalysis\").getOrCreate()\n",
    "\n",
    "# Variabili per i percorsi di input e output\n",
    "# Percorsi dei file di input e output\n",
    "jupyter = False\n",
    "if jupyter:\n",
    "    input_prefix = \"/user/s339450/esami/20240912/\"\n",
    "    output_prefix= \"/user/s339450/esami/20240912/out/\"\n",
    "else:\n",
    "    input_prefix = \".\\\\data\\\\\"\n",
    "    output_prefix= \".\\\\out\\\\\"\n",
    "\n",
    "invitations_path = f\"{input_prefix}Invitations.txt\"\n",
    "meetings_path = f\"{input_prefix}Meetings.txt\"\n",
    "users_path = f\"{input_prefix}Users.txt\"\n",
    "output_folder_1 = f\"{output_prefix}1/\"\n",
    "output_folder_2 = f\"{output_prefix}2/\""
   ]
  },
  {
   "cell_type": "code",
   "execution_count": 70,
   "metadata": {},
   "outputs": [
    {
     "name": "stdout",
     "output_type": "stream",
     "text": [
      "+-------+--------+--------+\n",
      "|    MID|     UID|Accepted|\n",
      "+-------+--------+--------+\n",
      "|MID1034|User1000|     Yes|\n",
      "|MID1034|User1001|      No|\n",
      "|MID1035|User1002| Unknown|\n",
      "|MID1036|User1003|     Yes|\n",
      "|MID1037|User1004|      No|\n",
      "|MID1038|User1000|     Yes|\n",
      "|MID1038|User1002|     Yes|\n",
      "+-------+--------+--------+\n",
      "\n",
      "+-------+--------------------+-------------------+--------+------------+\n",
      "|    MID|               Title|          StartTime|Duration|OrganizerUID|\n",
      "+-------+--------------------+-------------------+--------+------------+\n",
      "|MID1034|Polito project ki...|2023-02-07 20:40:00|      90|    User1000|\n",
      "|MID1035|  Marketing Strategy|2023-03-15 10:00:00|      60|    User1001|\n",
      "|MID1036|           Tech Sync|2023-04-01 15:30:00|      45|    User1002|\n",
      "|MID1037|Annual General Me...|2023-05-10 09:00:00|     120|    User1003|\n",
      "|MID1038|      Product Launch|2023-06-20 14:00:00|      75|    User1004|\n",
      "|MID1039|Polito project ki...|2023-02-07 20:40:00|      90|    User1000|\n",
      "+-------+--------------------+-------------------+--------+------------+\n",
      "\n",
      "+--------+-----+-------+-------------------+-----------+\n",
      "|     UID| Name|Surname|        DateOfBirth|PricingPlan|\n",
      "+--------+-----+-------+-------------------+-----------+\n",
      "|User1000|Mario|  Rossi|1988-06-01 00:00:00|   Business|\n",
      "|User1001| Anna|Bianchi|1995-09-12 00:00:00|       Free|\n",
      "|User1002| John|  Smith|1990-02-25 00:00:00|    Premium|\n",
      "|User1003| Luca|  Verdi|1985-07-30 00:00:00|   Business|\n",
      "|User1004| Sara|   Neri|1998-11-20 00:00:00|       Free|\n",
      "+--------+-----+-------+-------------------+-----------+\n",
      "\n"
     ]
    }
   ],
   "source": [
    "invitations_schema = StructType([\n",
    "    StructField(\"MID\", StringType(), False),\n",
    "    StructField(\"UID\", StringType(), False),\n",
    "    StructField(\"Accepted\", StringType(), False)\n",
    "])\n",
    "\n",
    "invitations: DataFrame = ss.read.load(invitations_path,\n",
    "    format=\"csv\",\n",
    "    header=False,\n",
    "    schema=invitations_schema,\n",
    "    sep=\",\")\n",
    "\n",
    "invitations.show()\n",
    "\n",
    "meetings_schema = StructType([\n",
    "    StructField(\"MID\", StringType(), False),\n",
    "    StructField(\"Title\", StringType(), False),\n",
    "    StructField(\"StartTime\", StringType(), False),\n",
    "    StructField(\"Duration\", IntegerType(), False),\n",
    "    StructField(\"OrganizerUID\", StringType(), False)\n",
    "])\n",
    "\n",
    "meetings: DataFrame = ss.read.load(meetings_path,\n",
    "    format=\"csv\",\n",
    "    header=False,\n",
    "    schema=meetings_schema,\n",
    "    sep=\",\")\n",
    "\n",
    "# Conversione del timestamp\n",
    "meetings = meetings.withColumn(\n",
    "    \"StartTime\",\n",
    "    to_timestamp(col(\"StartTime\"), \"yyyy/MM/dd-HH:mm:ss\")  # Adatta il formato del timestamp\n",
    ")\n",
    "\n",
    "meetings.show()\n",
    "\n",
    "users_schema = StructType([\n",
    "    StructField(\"UID\", StringType(), False),\n",
    "    StructField(\"Name\", StringType(), False),\n",
    "    StructField(\"Surname\", StringType(), False),\n",
    "    StructField(\"DateOfBirth\", StringType(), False),\n",
    "    StructField(\"PricingPlan\", StringType(), False)\n",
    "])\n",
    "\n",
    "users: DataFrame = ss.read.load(users_path,\n",
    "    format=\"csv\",\n",
    "    header=False,\n",
    "    schema=users_schema,\n",
    "    sep=\",\")\n",
    "\n",
    "# Conversione del timestamp\n",
    "users = users.withColumn(\n",
    "    \"DateOfBirth\",\n",
    "    to_timestamp(col(\"DateOfBirth\"), \"yyyy/MM/dd\")  # Adatta il formato del timestamp\n",
    ")\n",
    "\n",
    "users.show()"
   ]
  },
  {
   "cell_type": "markdown",
   "metadata": {},
   "source": [
    "# Punto 1"
   ]
  },
  {
   "cell_type": "code",
   "execution_count": 71,
   "metadata": {},
   "outputs": [
    {
     "name": "stdout",
     "output_type": "stream",
     "text": [
      "+--------+-------------+-------------+-------------+\n",
      "|     UID|avg(Duration)|max(Duration)|min(Duration)|\n",
      "+--------+-------------+-------------+-------------+\n",
      "|User1000|         90.0|           90|           90|\n",
      "|User1003|        120.0|          120|          120|\n",
      "+--------+-------------+-------------+-------------+\n",
      "\n"
     ]
    }
   ],
   "source": [
    "response1 = (\n",
    "    meetings\n",
    "    .join(users, col(\"OrganizerUID\") == col(\"UID\"))\n",
    "    .filter(col(\"PricingPlan\") == \"Business\")\n",
    "    .groupBy([\"UID\"]).agg(avg(col(\"Duration\")), max(col(\"Duration\")), min(col(\"Duration\")))\n",
    ")\n",
    "\n",
    "response1.show()"
   ]
  },
  {
   "cell_type": "code",
   "execution_count": 72,
   "metadata": {},
   "outputs": [],
   "source": [
    "response1.write.mode(\"overwrite\").csv(output_folder_1)"
   ]
  },
  {
   "cell_type": "markdown",
   "metadata": {},
   "source": [
    "# Punto 2"
   ]
  },
  {
   "cell_type": "code",
   "execution_count": null,
   "metadata": {},
   "outputs": [
    {
     "name": "stdout",
     "output_type": "stream",
     "text": [
      "+-------+-------------------+-------------+\n",
      "|    MID|numberOfInvitations|TypeOfMeeting|\n",
      "+-------+-------------------+-------------+\n",
      "|MID1034|                  2|        Small|\n",
      "|MID1039|                  1|        Small|\n",
      "|MID1037|                  1|        Small|\n",
      "+-------+-------------------+-------------+\n",
      "\n"
     ]
    }
   ],
   "source": [
    "response2 = (\n",
    "    meetings\n",
    "    .join(users, col(\"OrganizerUID\") == col(\"UID\"))\n",
    "    .filter(col(\"PricingPlan\") == \"Business\")\n",
    "    .select(col(\"MID\"), col(\"OrganizerUID\"))\n",
    "    .join(invitations, on=\"MID\", how=\"left\")\n",
    "    .groupBy(\"MID\")\n",
    "    .agg(count(\"*\"))\n",
    "    .withColumnRenamed(\"count(1)\", \"numberOfInvitations\")\n",
    "    .withColumn(\n",
    "        \"TypeOfMeeting\",\n",
    "        expr(\n",
    "            \"\"\"\n",
    "            CASE \n",
    "                WHEN numberOfInvitations < 5 THEN 'Small' \n",
    "                WHEN numberOfInvitations >= 5 AND numberOfInvitations < 20 THEN 'Medium'\n",
    "                WHEN numberOfInvitations >= 20 THEN 'Big' \n",
    "                ELSE 'None'\n",
    "            END\n",
    "            \"\"\"\n",
    "        )\n",
    "    )\n",
    ")\n",
    "\n",
    "response2.show()"
   ]
  }
 ],
 "metadata": {
  "kernelspec": {
   "display_name": ".venv",
   "language": "python",
   "name": "python3"
  },
  "language_info": {
   "codemirror_mode": {
    "name": "ipython",
    "version": 3
   },
   "file_extension": ".py",
   "mimetype": "text/x-python",
   "name": "python",
   "nbconvert_exporter": "python",
   "pygments_lexer": "ipython3",
   "version": "3.11.4"
  }
 },
 "nbformat": 4,
 "nbformat_minor": 2
}
