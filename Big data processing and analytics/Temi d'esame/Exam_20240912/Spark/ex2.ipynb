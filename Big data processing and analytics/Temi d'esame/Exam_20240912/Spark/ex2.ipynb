{
 "cells": [
  {
   "cell_type": "code",
   "execution_count": 2,
   "id": "127a12c6-99bc-4e0f-ae7a-928f73ee1c14",
   "metadata": {},
   "outputs": [],
   "source": [
    "# Importiamo le librerie necessarie\n",
    "from pyspark.sql import SparkSession\n",
    "from pyspark.sql.types import StructType, StructField, StringType, IntegerType, DateType\n",
    "from pyspark.sql.functions import col, year, sum\n",
    "from pyspark.sql.dataframe import DataFrame\n",
    "import numpy as np\n",
    "\n",
    "\n",
    "# Supponiamo che SparkSession sia già stato creato\n",
    "ss = SparkSession.builder.appName(\"PoliSalesAnalysis\").getOrCreate()\n",
    "\n",
    "# Variabili per i percorsi di input e output\n",
    "# Percorsi dei file di input e output\n",
    "jupyter = False\n",
    "if jupyter:\n",
    "    input_prefix = \"/user/s339450/esami/20240912/\"\n",
    "    output_prefix= \"/user/s339450/esami/20240912/out/\"\n",
    "else:\n",
    "    input_prefix = \"data/\"\n",
    "    output_prefix= \"out/\"\n",
    "\n",
    "products_path = f\"{input_prefix}products.txt\"\n",
    "prices_path = f\"{input_prefix}prices.txt\"\n",
    "sales_path = f\"{input_prefix}sales.txt\"\n",
    "output_folder_1 = f\"{output_prefix}path_to_output_folder_1\"  # Prodotti con vendite ridotte\n",
    "output_folder_2 = f\"{output_prefix}path_to_output_folder_2\"  # Prodotto/i più venduti per anno\n",
    "\n"
   ]
  },
  {
   "cell_type": "code",
   "execution_count": 3,
   "id": "ef7b1b1d-6456-452d-932c-1e6110a19566",
   "metadata": {},
   "outputs": [
    {
     "name": "stdout",
     "output_type": "stream",
     "text": [
      "+---------+------------+-----------+\n",
      "|ProductID|        Name|   Category|\n",
      "+---------+------------+-----------+\n",
      "|       P1|  Television|Electronics|\n",
      "|       P2|Refrigerator| Appliances|\n",
      "|       P3|      Laptop|Electronics|\n",
      "|       P4|        Sofa|  Furniture|\n",
      "|       P5|   Microwave| Appliances|\n",
      "+---------+------------+-----------+\n",
      "\n",
      "+---------+------------+----------+-----+\n",
      "|ProductID|StartingDate|EndingDate|Price|\n",
      "+---------+------------+----------+-----+\n",
      "|       P1|  2019-01-01|2019-12-31|  500|\n",
      "|       P1|  2021-01-01|2021-12-31|  450|\n",
      "|       P2|  2019-01-01|2019-12-31|  800|\n",
      "|       P2|  2021-01-01|2021-12-31|  750|\n",
      "|       P3|  2019-01-01|2019-12-31| 1000|\n",
      "|       P3|  2021-01-01|2021-12-31|  950|\n",
      "|       P4|  2019-01-01|2019-12-31|  300|\n",
      "|       P4|  2021-01-01|2021-12-31|  320|\n",
      "|       P5|  2019-01-01|2019-12-31|  200|\n",
      "|       P5|  2021-01-01|2021-12-31|  190|\n",
      "+---------+------------+----------+-----+\n",
      "\n",
      "+---------+----------+--------------------+\n",
      "|ProductID|      Date|NumberOfProductsSold|\n",
      "+---------+----------+--------------------+\n",
      "|       P1|2019-01-01|                  10|\n",
      "|       P1|2019-01-02|                   5|\n",
      "|       P1|2021-01-01|                   8|\n",
      "|       P1|2021-01-02|                   4|\n",
      "|       P2|2019-01-01|                  20|\n",
      "|       P2|2019-01-02|                  15|\n",
      "|       P2|2021-01-01|                  12|\n",
      "|       P2|2021-01-02|                  18|\n",
      "|       P3|2019-01-01|                  25|\n",
      "|       P3|2019-01-02|                  30|\n",
      "|       P3|2021-01-01|                  35|\n",
      "|       P3|2021-01-02|                  30|\n",
      "|       P4|2019-01-01|                  15|\n",
      "|       P4|2019-01-02|                  10|\n",
      "|       P4|2021-01-01|                  20|\n",
      "|       P4|2021-01-02|                  15|\n",
      "|       P5|2019-01-01|                  18|\n",
      "|       P5|2019-01-02|                  22|\n",
      "|       P5|2021-01-01|                  16|\n",
      "|       P5|2021-01-02|                  14|\n",
      "+---------+----------+--------------------+\n",
      "only showing top 20 rows\n",
      "\n"
     ]
    },
    {
     "data": {
      "text/plain": [
       "22"
      ]
     },
     "execution_count": 3,
     "metadata": {},
     "output_type": "execute_result"
    }
   ],
   "source": [
    "# Definizione degli schemi\n",
    "# Schema per Products.txt\n",
    "products_schema = StructType([\n",
    "    StructField(\"ProductID\", StringType(), True),\n",
    "    StructField(\"Name\", StringType(), True),\n",
    "    StructField(\"Category\", StringType(), True)\n",
    "])\n",
    "\n",
    "# Schema per Prices.txt\n",
    "prices_schema = StructType([\n",
    "    StructField(\"ProductID\", StringType(), True),\n",
    "    StructField(\"StartingDate\", DateType(), True),\n",
    "    StructField(\"EndingDate\", DateType(), True),\n",
    "    StructField(\"Price\", IntegerType(), True)\n",
    "])\n",
    "\n",
    "# Schema per Sales.txt\n",
    "sales_schema = StructType([\n",
    "    StructField(\"ProductID\", StringType(), True),\n",
    "    StructField(\"Date\", DateType(), True),\n",
    "    StructField(\"NumberOfProductsSold\", IntegerType(), True)\n",
    "])\n",
    "\n",
    "# Lettura del file Products.txt\n",
    "products: DataFrame = ss.read.load(products_path,\n",
    "    format=\"csv\",\n",
    "    header=False,\n",
    "    schema=products_schema)\n",
    "\n",
    "# Lettura del file Prices.txt\n",
    "prices: DataFrame = ss.read.load(prices_path,\n",
    "    format=\"csv\",\n",
    "    header=False,\n",
    "    schema=prices_schema)\n",
    "\n",
    "# Lettura del file Sales.txt\n",
    "sales: DataFrame = ss.read.load(sales_path,\n",
    "    format=\"csv\",\n",
    "    header=False,\n",
    "    schema=sales_schema)\n",
    "\n",
    "# Visualizzazione dataframes per debug\n",
    "products.show()\n",
    "prices.show()\n",
    "sales.show()\n",
    "sales.count()"
   ]
  },
  {
   "cell_type": "markdown",
   "id": "b30d1960",
   "metadata": {},
   "source": [
    "# Punto 1"
   ]
  },
  {
   "cell_type": "code",
   "execution_count": 4,
   "id": "8529990e-4a10-4a23-ba59-46b5ae8bd2c4",
   "metadata": {},
   "outputs": [],
   "source": [
    "# Punto 1\n",
    "\n",
    "# Join tra products e sales  # year(col(\"date\"))\n",
    "sales_filtered: DataFrame = sales.filter(\n",
    "    (year(col(\"Date\")) == 2019) | (year(col(\"Date\")) == 2021)\n",
    ")\n",
    "\n",
    "# sales_filtered.show()\n",
    "# sales_filtered.count()\n",
    "\n",
    "# Raggruppa per 'ProductID' e per anno\n",
    "sales_for_year = sales_filtered.groupBy(\"ProductID\", year(col(\"Date\")).alias(\"Year\")).agg({\"NumberOfProductsSold\": \"sum\"})\n",
    "\n",
    "# Mostra i risultati\n",
    "# sales_for_year.show()\n",
    "\n",
    "sales_2019 = sales_for_year.filter(col(\"Year\") == 2019).select(\"ProductID\", col(\"Sum(NumberOfProductsSold)\").alias(\"NumberOfProductsSold2019\"))\n",
    "sales_2021 = sales_for_year.filter(col(\"Year\") == 2021).select(\"ProductID\", col(\"Sum(NumberOfProductsSold)\").alias(\"NumberOfProductsSold2021\"))\n",
    "\n",
    "decreased_sales = sales_2019.join(sales_2021, \"ProductID\").filter(col(\"NumberOfProductsSold2019\") > col(\"NumberOfProductsSold2021\"))"
   ]
  },
  {
   "cell_type": "code",
   "execution_count": 5,
   "id": "be0cd41f-aa97-4e93-b691-c7ca69a59dcd",
   "metadata": {},
   "outputs": [],
   "source": [
    "decreased_sales.select(\"ProductID\").write.mode(\"overwrite\").csv(output_folder_1)"
   ]
  },
  {
   "cell_type": "markdown",
   "id": "47820831",
   "metadata": {},
   "source": [
    "# Punto 2"
   ]
  },
  {
   "cell_type": "code",
   "execution_count": 6,
   "id": "3afbcb99",
   "metadata": {},
   "outputs": [
    {
     "name": "stdout",
     "output_type": "stream",
     "text": [
      "+---------+----+-------------------------+\n",
      "|ProductID|Year|sum(NumberOfProductsSold)|\n",
      "+---------+----+-------------------------+\n",
      "|       P1|2019|                       15|\n",
      "|       P3|2021|                       65|\n",
      "|       P5|2021|                       44|\n",
      "|       P5|2020|                       28|\n",
      "|       P2|2019|                       35|\n",
      "|       P4|2021|                       35|\n",
      "|       P1|2021|                       12|\n",
      "|       P2|2021|                       30|\n",
      "|       P4|2019|                       25|\n",
      "|       P5|2019|                       40|\n",
      "|       P3|2019|                       55|\n",
      "+---------+----+-------------------------+\n",
      "\n"
     ]
    }
   ],
   "source": [
    "sales_for_product_and_year = sales.groupBy(\"ProductID\", year(col(\"Date\")).alias(\"Year\")).agg({\"NumberOfProductsSold\": \"sum\"})\n",
    "sales_for_product_and_year.show()"
   ]
  },
  {
   "cell_type": "code",
   "execution_count": 27,
   "id": "101ee04f",
   "metadata": {},
   "outputs": [
    {
     "name": "stdout",
     "output_type": "stream",
     "text": [
      "+----+------------------------------+\n",
      "|Year|max(sum(NumberOfProductsSold))|\n",
      "+----+------------------------------+\n",
      "|2019|                            55|\n",
      "|2020|                            28|\n",
      "|2021|                            65|\n",
      "+----+------------------------------+\n",
      "\n"
     ]
    }
   ],
   "source": [
    "sales_for_product_and_year_rdd = sales_for_product_and_year.rdd\n",
    "# Debug\n",
    "sales_for_product_and_year_rdd.collect()\n",
    "\n",
    "max_per_year_df = sales_for_product_and_year.groupBy(col('Year')).agg({\"sum(NumberOfProductsSold)\": \"max\"})\n",
    "max_per_year_df.show()"
   ]
  },
  {
   "cell_type": "code",
   "execution_count": null,
   "id": "b4f5cd27",
   "metadata": {},
   "outputs": [
    {
     "data": {
      "text/plain": [
       "[(2019, 55), (2021, 65), (2020, 28)]"
      ]
     },
     "execution_count": 26,
     "metadata": {},
     "output_type": "execute_result"
    }
   ],
   "source": [
    "# max_per_year = sales_for_product_and_year_rdd.map(lambda x: (x['Year'], x['sum(NumberOfProductsSold)'])).reduceByKey(lambda v1, v2: max(v1, v2))\n",
    "# max_per_year.collect()"
   ]
  },
  {
   "cell_type": "code",
   "execution_count": null,
   "id": "ec245bed",
   "metadata": {},
   "outputs": [
    {
     "data": {
      "text/plain": [
       "[((2021, 65), ('P3', None)),\n",
       " ((2020, 28), ('P5', None)),\n",
       " ((2019, 55), ('P3', None))]"
      ]
     },
     "execution_count": 17,
     "metadata": {},
     "output_type": "execute_result"
    }
   ],
   "source": [
    "# map maxPerYear to\n",
    "# key = (year, max count per year)\n",
    "# value = None\n",
    "# yearMaxNone = max_per_year.map(lambda p: (p, None))\n",
    "# maxPidPerYear = sales_for_product_and_year_rdd.map(lambda p: ( (p['Year'], p['sum(NumberOfProductsSold)']), p['ProductID'])).join(yearMaxNone)\n",
    "# maxPidPerYear.collect()"
   ]
  },
  {
   "cell_type": "code",
   "execution_count": 28,
   "id": "cf893394",
   "metadata": {},
   "outputs": [
    {
     "name": "stdout",
     "output_type": "stream",
     "text": [
      "+---------+----+-------------------------+\n",
      "|ProductID|Year|sum(NumberOfProductsSold)|\n",
      "+---------+----+-------------------------+\n",
      "|       P3|2021|                       65|\n",
      "|       P5|2020|                       28|\n",
      "|       P3|2019|                       55|\n",
      "+---------+----+-------------------------+\n",
      "\n"
     ]
    }
   ],
   "source": [
    "# max_per_year_df: DataFrame = ss.createDataFrame(max_per_year, ['Year', 'NumberOfProductsSoldMax'])\n",
    "pid_max_for_year = sales_for_product_and_year.join(\n",
    "    max_per_year_df,\n",
    "    (sales_for_product_and_year['Year'] == max_per_year_df['Year']) & \n",
    "    (sales_for_product_and_year['sum(NumberOfProductsSold)'] == max_per_year_df['max(sum(NumberOfProductsSold))']),\n",
    "    \"semi\"  # tipo di join, può essere \"inner\", \"left\", \"right\" ecc.\n",
    ")\n",
    "pid_max_for_year.show()"
   ]
  },
  {
   "cell_type": "code",
   "execution_count": 32,
   "id": "d6b121c2",
   "metadata": {},
   "outputs": [],
   "source": [
    "pid_max_for_year.select(\"ProductID\", \"Year\").write.mode(\"overwrite\").csv(output_folder_2)"
   ]
  }
 ],
 "metadata": {
  "kernelspec": {
   "display_name": ".venv",
   "language": "python",
   "name": "python3"
  },
  "language_info": {
   "codemirror_mode": {
    "name": "ipython",
    "version": 3
   },
   "file_extension": ".py",
   "mimetype": "text/x-python",
   "name": "python",
   "nbconvert_exporter": "python",
   "pygments_lexer": "ipython3",
   "version": "3.11.4"
  }
 },
 "nbformat": 4,
 "nbformat_minor": 5
}
