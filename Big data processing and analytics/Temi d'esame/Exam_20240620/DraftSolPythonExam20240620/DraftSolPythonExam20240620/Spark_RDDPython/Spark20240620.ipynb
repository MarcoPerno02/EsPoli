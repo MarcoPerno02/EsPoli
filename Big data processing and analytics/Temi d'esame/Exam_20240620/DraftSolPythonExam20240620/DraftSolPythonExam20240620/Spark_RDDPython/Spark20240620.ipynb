{
 "cells": [
  {
   "cell_type": "code",
   "execution_count": null,
   "id": "28e7d611",
   "metadata": {},
   "outputs": [],
   "source": [
    "jobContractsPath = \"sample_data/JobContracts.txt\"\n",
    "jobOffersPath = \"sample_data/JobOffers.txt\"\n",
    "jobPostingsPath = \"sample_data/JobPostings.txt\"\n",
    "\n",
    "outputPath1 = \"outSpark1/\"\n",
    "outputPath2 = \"outSpark2/\""
   ]
  },
  {
   "cell_type": "code",
   "execution_count": null,
   "id": "dfdc4084",
   "metadata": {},
   "outputs": [],
   "source": [
    "jobPostingsRDD = sc.textFile( jobPostingsPath ) # JobID,Title,Country\n",
    "jobOffersRDD = sc.textFile( jobOffersPath) # OfferID,JobID,Salary,Status,SSN\n",
    "jobContractsRDD = sc.textFile( jobContractsPath ) #ContractID,OfferID,ContractDate,ContractType"
   ]
  },
  {
   "cell_type": "code",
   "execution_count": null,
   "id": "0ebf6310",
   "metadata": {},
   "outputs": [],
   "source": [
    "######################\n",
    "# PART 1\n",
    "######################"
   ]
  },
  {
   "cell_type": "code",
   "execution_count": null,
   "id": "16933862",
   "metadata": {},
   "outputs": [],
   "source": [
    "# Filter accepted job offers and extract (JobID,(Salary, OfferId))\n",
    "# OfferId is helpful for solving the second part.\n",
    "# To avoid repeating the same join in the second part, we already retrieve the OfferId here.\n",
    "\n",
    "def jobIDSalaryOfferID(line):\n",
    "    fields = line.split(\",\")\n",
    "    \n",
    "    offerId = fields[0]\n",
    "    jobID = fields[1]\n",
    "    salary = float(fields[2])\n",
    "    \n",
    "    return (jobID, (salary,offerId))\n",
    "    \n",
    "\n",
    "acceptedOffers = jobOffersRDD\\\n",
    "    .filter(lambda line: line.find(\",Accepted,\")>=0)\\\n",
    "    .map(jobIDSalaryOfferID)"
   ]
  },
  {
   "cell_type": "code",
   "execution_count": null,
   "id": "c04f9827",
   "metadata": {},
   "outputs": [],
   "source": [
    "# Extract (JobID, (Country, Title)) from job postings\n",
    "# Title is helpful for solving the second part.\n",
    "# To avoid repeating the same join in the second part, we already retrieve the title here.\n",
    "\n",
    "def jobIDCountryTitle(line):\n",
    "    fields = line.split(\",\")\n",
    "    \n",
    "    jobID = fields[0]\n",
    "    title = fields[1]\n",
    "    country = fields[2]\n",
    "    \n",
    "    return (jobID, (country,title))\n",
    "\n",
    "jobIDCountry = jobPostingsRDD.map(jobIDCountryTitle)"
   ]
  },
  {
   "cell_type": "code",
   "execution_count": null,
   "id": "9209f918",
   "metadata": {},
   "outputs": [],
   "source": [
    "# Join accepted offers with job postings to get (JobID, ((Salary, OfferId), (Country, Title)))\n",
    "offersWithCountry = acceptedOffers.join(jobIDCountry).cache()"
   ]
  },
  {
   "cell_type": "code",
   "execution_count": null,
   "id": "7aba3d5a",
   "metadata": {},
   "outputs": [],
   "source": [
    "# Map to (Country, (Salary, 1))\n",
    "countrySalaryCount = offersWithCountry\\\n",
    "    .map(lambda tuple: (tuple[1][1][0], (tuple[1][0][0], 1)))"
   ]
  },
  {
   "cell_type": "code",
   "execution_count": null,
   "id": "453b115f",
   "metadata": {},
   "outputs": [],
   "source": [
    "# Reduce by key to get (Country, (TotalSalary, Count))\n",
    "countryTotalSalaryCount = countrySalaryCount\\\n",
    "    .reduceByKey(lambda a, b: (a[0] + b[0], a[1] + b[1]))"
   ]
  },
  {
   "cell_type": "code",
   "execution_count": null,
   "id": "78adef88",
   "metadata": {},
   "outputs": [],
   "source": [
    "# Map to (Country, AverageSalary)\n",
    "countryAverageSalary = countryTotalSalaryCount\\\n",
    "    .mapValues(lambda tuple: float(tuple[0]) / float(tuple[1]))"
   ]
  },
  {
   "cell_type": "code",
   "execution_count": null,
   "id": "5f421658",
   "metadata": {},
   "outputs": [],
   "source": [
    "# Select only the top N countries with the highest average salary\n",
    "topCountries = countryAverageSalary\\\n",
    "    .top(3, lambda tuple: tuple[1])"
   ]
  },
  {
   "cell_type": "code",
   "execution_count": null,
   "id": "b7c134a0",
   "metadata": {},
   "outputs": [],
   "source": [
    "# Convert the top 3 countries to an RDD and save the result in the output folder\n",
    "topCountriesRDD = sc.parallelize(topCountries)\n",
    "\n",
    "topCountriesRDD.saveAsTextFile(outputPath1)"
   ]
  },
  {
   "cell_type": "code",
   "execution_count": null,
   "id": "fbc10f07",
   "metadata": {},
   "outputs": [],
   "source": []
  },
  {
   "cell_type": "code",
   "execution_count": null,
   "id": "909f6911",
   "metadata": {},
   "outputs": [],
   "source": [
    "######################\n",
    "# PART 2\n",
    "######################"
   ]
  },
  {
   "cell_type": "code",
   "execution_count": null,
   "id": "c342a186",
   "metadata": {},
   "outputs": [],
   "source": [
    "# Map offersWithCountry to\n",
    "# (OfferID, (Country, Title))\n",
    "\n",
    "def offIdTitleCountry(pair):\n",
    "    offerId = pair[1][0][1]\n",
    "    country = pair[1][1][0]\n",
    "    title = pair[1][1][1]\n",
    "    \n",
    "    return (offerId, (title, country))\n",
    "    \n",
    "\n",
    "offerTitleCountry = offersWithCountry.map(offIdTitleCountry)"
   ]
  },
  {
   "cell_type": "code",
   "execution_count": null,
   "id": "e4fc4c39",
   "metadata": {},
   "outputs": [],
   "source": [
    "# Map contracts to (OfferID, None)\n",
    "\n",
    "def offIdNone(line):\n",
    "    # ContractID,OfferID,ContractDate,ContractType\n",
    "    fields = line.split(\",\")\n",
    "    offerID = fields[1]\n",
    "    \n",
    "    return (offerID, None)\n",
    "    \n",
    "\n",
    "offerIdContract = jobContractsRDD.map(offIdNone)"
   ]
  },
  {
   "cell_type": "code",
   "execution_count": null,
   "id": "16d4ef3d",
   "metadata": {},
   "outputs": [],
   "source": [
    "# Join offerTitleCountry with offerIdContract -> (offerId, ((Title, Country), null))\n",
    "# map to ((title, country), +1)\n",
    "# and apply reduceByKey to count the number of contracts for each title in each country\n",
    "# ((title, country), numContracts)\n",
    "\n",
    "\n",
    "titleCountryNumContracts = offerTitleCountry.join(offerIdContract)\\\n",
    "    .map(lambda pair: (pair[1][0], 1))\\\n",
    "    .reduceByKey(lambda v1, v2: v1+v2).cache()"
   ]
  },
  {
   "cell_type": "code",
   "execution_count": null,
   "id": "01cee15f",
   "metadata": {},
   "outputs": [],
   "source": [
    "# Map to (Country, numContracts) and compute the maximum for each country\n",
    "def CountryNumContracts(pair):\n",
    "    country =  pair[0][1]\n",
    "    numContracts = pair[1]\n",
    "    \n",
    "    return (country, numContracts)\n",
    "    \n",
    "\n",
    "countryMaxNumContracts = titleCountryNumContracts\\\n",
    "    .map(CountryNumContracts)\\\n",
    "    .reduceByKey(lambda v1, v2: max(v1,v2))"
   ]
  },
  {
   "cell_type": "code",
   "execution_count": null,
   "id": "c852a73e",
   "metadata": {},
   "outputs": [],
   "source": [
    "countryMaxNumContracts.collect()"
   ]
  },
  {
   "cell_type": "code",
   "execution_count": null,
   "id": "51de2acd",
   "metadata": {},
   "outputs": [],
   "source": [
    "# Map countryMaxNumContracts to \n",
    "# ( (Country, maxNumContracts), None )\n",
    "countryMaxNull = countryMaxNumContracts.map(lambda pair: (pair, None))"
   ]
  },
  {
   "cell_type": "code",
   "execution_count": null,
   "id": "323271d6",
   "metadata": {},
   "outputs": [],
   "source": [
    "# Map Join titleCountryNumContracts to ((country, numContracts), title)\n",
    "\n",
    "def CountryNumContractsTitle(pair):\n",
    "    title = pair[0][0]\n",
    "    country = pair[0][1]\n",
    "    numContracts = pair[1]\n",
    "    \n",
    "    return ((country,numContracts), title)\n",
    "    \n",
    "\n",
    "countryNumContractsTitle = titleCountryNumContracts.map(CountryNumContractsTitle)"
   ]
  },
  {
   "cell_type": "code",
   "execution_count": null,
   "id": "ae09d945",
   "metadata": {},
   "outputs": [],
   "source": [
    "# Join countryNumContractsTitle with countryMaxNull\n",
    "# and map to the string Country,Title,NumberOfContracts\n",
    "mostPopularTitlePerCountry = countryNumContractsTitle.join(countryMaxNull)\\\n",
    "    .map(lambda pair: pair[0][0]+ \",\" + pair[1][0] + \",\" + str(pair[0][1]))"
   ]
  },
  {
   "cell_type": "code",
   "execution_count": null,
   "id": "5ac7733f",
   "metadata": {},
   "outputs": [],
   "source": [
    "# Save the result to the output folder\n",
    "mostPopularTitlePerCountry.saveAsTextFile(outputPath2)"
   ]
  },
  {
   "cell_type": "code",
   "execution_count": null,
   "id": "dac1caa9",
   "metadata": {},
   "outputs": [],
   "source": []
  }
 ],
 "metadata": {
  "kernelspec": {
   "display_name": "Python 3",
   "language": "python",
   "name": "python3"
  },
  "language_info": {
   "codemirror_mode": {
    "name": "ipython",
    "version": 3
   },
   "file_extension": ".py",
   "mimetype": "text/x-python",
   "name": "python",
   "nbconvert_exporter": "python",
   "pygments_lexer": "ipython3",
   "version": "3.10.12"
  }
 },
 "nbformat": 4,
 "nbformat_minor": 5
}
