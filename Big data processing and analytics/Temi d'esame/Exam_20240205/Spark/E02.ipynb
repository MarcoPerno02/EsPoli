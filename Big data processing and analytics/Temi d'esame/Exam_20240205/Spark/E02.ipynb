{
 "cells": [
  {
   "cell_type": "code",
   "execution_count": 45,
   "metadata": {},
   "outputs": [],
   "source": [
    "# Importiamo le librerie necessarie\n",
    "from pyspark.sql import SparkSession\n",
    "from pyspark.sql.types import StructType, StructField, StringType, IntegerType, DateType, DoubleType, TimestampType\n",
    "from pyspark.sql.functions import col, year, sum, to_timestamp, count, expr, max, count_distinct\n",
    "from pyspark.sql import Window\n",
    "from pyspark.sql.dataframe import DataFrame\n",
    "import numpy as np\n",
    "\n",
    "# Supponiamo che SparkSession sia già stato creato\n",
    "ss: SparkSession = SparkSession.builder.appName(\"PoliSalesAnalysis\").getOrCreate()\n",
    "\n",
    "# Variabili per i percorsi di input e output\n",
    "# Percorsi dei file di input e output\n",
    "jupyter = False\n",
    "if jupyter:\n",
    "    input_prefix = \"/user/s339450/esami/20240912/\"\n",
    "    output_prefix= \"/user/s339450/esami/20240912/out/\"\n",
    "else:\n",
    "    input_prefix = \".\\\\data\\\\\"\n",
    "    output_prefix= \".\\\\out\\\\\"\n",
    "\n",
    "NEOBjects_path = f\"{input_prefix}NEOBjects.txt\"\n",
    "observations_path = f\"{input_prefix}Observations.txt\"\n",
    "observatories_path = f\"{input_prefix}Observatories.txt\"\n",
    "output_folder_1 = f\"{output_prefix}1/\"\n",
    "output_folder_2 = f\"{output_prefix}2/\""
   ]
  },
  {
   "cell_type": "code",
   "execution_count": 46,
   "metadata": {},
   "outputs": [
    {
     "name": "stdout",
     "output_type": "stream",
     "text": [
      "+-------------+-------------------+--------+---------+---------+-------------+-------+\n",
      "|ObservatoryID|               Name|     Lat|      Lon|  Country|    Continent|Amateur|\n",
      "+-------------+-------------------+--------+---------+---------+-------------+-------+\n",
      "|        OB101|   Keck Observatory| 19.8283|-155.4783|      USA|North America|   True|\n",
      "|        OB202|Galileo Observatory| 41.9028|  12.4964|    Italy|       Europe|  False|\n",
      "|        OB303|Amateur Skywatchers| 35.6895| 139.6917|    Japan|         Asia|   True|\n",
      "|        OB404|      Cerro Paranal| 24.6272| -70.4042|    Chile|South America|  False|\n",
      "|        OB505| Sydney Observatory|-33.8675|  151.207|Australia|      Oceania|  False|\n",
      "|        OB606|  Trump Observatory| 17.8283|-155.4783|      USA|North America|   True|\n",
      "+-------------+-------------------+--------+---------+---------+-------------+-------+\n",
      "\n",
      "+------+---------+----------------+-------------+\n",
      "| NEOID|Dimension|MaterialStrength|alreadyFallen|\n",
      "+------+---------+----------------+-------------+\n",
      "|NEO101|        5|               7|        False|\n",
      "|NEO202|        8|               6|        False|\n",
      "|NEO303|        4|               9|        False|\n",
      "|NEO404|        9|               3|        False|\n",
      "|NEO505|        6|               5|         True|\n",
      "+------+---------+----------------+-------------+\n",
      "\n",
      "+------+-------------+-------------------+-----------+-----------+-----------------+\n",
      "| NEOID|ObservatoryID|        ObsDateTime|EclipticLat|EclipticLon|EstimatedDistance|\n",
      "+------+-------------+-------------------+-----------+-----------+-----------------+\n",
      "|NEO101|        OB101|2024-01-15 22:10:00|    20.5937|  -100.3928|              2.3|\n",
      "|NEO202|        OB202|2023-07-15 04:30:00|    38.9072|    -77.037|              1.4|\n",
      "|NEO303|        OB303|2022-12-05 18:45:00|      15.87|   100.9925|              0.9|\n",
      "|NEO404|        OB404|2021-06-25 10:20:00|   -24.6272|   -70.4042|              3.1|\n",
      "|NEO505|        OB505|2020-11-11 03:15:00|   -33.8675|    151.207|              2.7|\n",
      "+------+-------------+-------------------+-----------+-----------+-----------------+\n",
      "\n"
     ]
    }
   ],
   "source": [
    "observatories_schema = StructType([\n",
    "    StructField(\"ObservatoryID\", StringType(), False),\n",
    "    StructField(\"Name\", StringType(), False),\n",
    "    StructField(\"Lat\", DoubleType(), False),\n",
    "    StructField(\"Lon\", DoubleType(), False),\n",
    "    StructField(\"Country\", StringType(), False),\n",
    "    StructField(\"Continent\", StringType(), False),\n",
    "    StructField(\"Amateur\", StringType(), False),\n",
    "])\n",
    "\n",
    "observatories: DataFrame = ss.read.load(observatories_path,\n",
    "    format=\"csv\",\n",
    "    header=False,\n",
    "    schema=observatories_schema,\n",
    "    sep=\",\")\n",
    "\n",
    "observatories.show()\n",
    "\n",
    "NEObjects_schema = StructType([\n",
    "    StructField(\"NEOID\", StringType(), False),\n",
    "    StructField(\"Dimension\", IntegerType(), False),\n",
    "    StructField(\"MaterialStrength\", IntegerType(), False),\n",
    "    StructField(\"alreadyFallen\", StringType(), False)\n",
    "])\n",
    "\n",
    "NEObjects: DataFrame = ss.read.load(NEOBjects_path,\n",
    "    format=\"csv\",\n",
    "    header=False,\n",
    "    schema=NEObjects_schema,\n",
    "    sep=\",\")\n",
    "\n",
    "NEObjects.show()\n",
    "\n",
    "observations_schema = StructType([\n",
    "    StructField(\"NEOID\", StringType(), False),\n",
    "    StructField(\"ObservatoryID\", StringType(), False),\n",
    "    StructField(\"ObsDateTime\", StringType(), False),\n",
    "    StructField(\"EclipticLat\", DoubleType(), False),\n",
    "    StructField(\"EclipticLon\", DoubleType(), False),\n",
    "    StructField(\"EstimatedDistance\", DoubleType(), False)\n",
    "])\n",
    "\n",
    "observations: DataFrame = ss.read.load(observations_path,\n",
    "    format=\"csv\",\n",
    "    header=False,\n",
    "    schema=observations_schema,\n",
    "    sep=\",\")\n",
    "\n",
    "# Conversione del timestamp\n",
    "observations = observations.withColumn(\n",
    "    \"ObsDateTime\",\n",
    "    to_timestamp(col(\"ObsDateTime\"), \"yyyy-MM-dd HH:mm:ss\")  # Adatta il formato del timestamp\n",
    ")\n",
    "\n",
    "observations.show()"
   ]
  },
  {
   "cell_type": "markdown",
   "metadata": {},
   "source": [
    "# Punto 1"
   ]
  },
  {
   "cell_type": "code",
   "execution_count": 47,
   "metadata": {},
   "outputs": [
    {
     "name": "stdout",
     "output_type": "stream",
     "text": [
      "+------+-------------+-------------------+-----------+-----------+-----------------+\n",
      "| NEOID|ObservatoryID|        ObsDateTime|EclipticLat|EclipticLon|EstimatedDistance|\n",
      "+------+-------------+-------------------+-----------+-----------+-----------------+\n",
      "|NEO202|        OB202|2023-07-15 04:30:00|    38.9072|    -77.037|              1.4|\n",
      "+------+-------------+-------------------+-----------+-----------+-----------------+\n",
      "\n"
     ]
    }
   ],
   "source": [
    "avg_dimension = NEObjects.groupBy().avg(\"Dimension\").withColumnRenamed(\"avg(Dimension)\", \"AvgDimension\").select(\"AvgDimension\").first()['AvgDimension']\n",
    "\n",
    "most_reveant_neos = NEObjects.filter((col(\"Dimension\") > avg_dimension) & (col(\"alreadyFallen\") == \"False\")).select(\"NEOID\")\n",
    "\n",
    "# Estrai la lista di NEOID che soddisfano i criteri\n",
    "neo_ids_list = [row[\"NEOID\"] for row in most_reveant_neos.collect()]\n",
    "\n",
    "# response2 = observations.filter((year(col(\"ObsDateTime\")) >= 2023) & col(\"NEOID\").isin(neo_ids_list))\n",
    "response2 = observations.filter((year(col(\"ObsDateTime\")) >= 2023)).join(most_reveant_neos, \"NEOID\", \"semi\")\n",
    "\n",
    "response2.show()\n"
   ]
  },
  {
   "cell_type": "markdown",
   "metadata": {},
   "source": [
    "# Punto 2"
   ]
  },
  {
   "cell_type": "code",
   "execution_count": 54,
   "metadata": {},
   "outputs": [
    {
     "name": "stdout",
     "output_type": "stream",
     "text": [
      "+------+-----------------------------+---+\n",
      "| NEOID|count(DISTINCT ObservatoryID)|tmp|\n",
      "+------+-----------------------------+---+\n",
      "|NEO202|                            1|  1|\n",
      "|NEO101|                            1|  1|\n",
      "+------+-----------------------------+---+\n",
      "\n"
     ]
    }
   ],
   "source": [
    "most_reveant_neos = observations.filter((year(col(\"ObsDateTime\")) >= 2023)).groupBy(col(\"NEOID\")).agg(count_distinct(\"ObservatoryID\")).filter(col(\"count(DISTINCT ObservatoryID)\") < 10)\n",
    "\n",
    "most_reveant_neos = most_reveant_neos.withColumn(\n",
    "    \"tmp\",\n",
    "    col(\"count(DISTINCT ObservatoryID)\").cast(\"string\")\n",
    ")\n",
    "\n",
    "most_reveant_neos = most_reveant_neos.replace([\"1\"], [\"NONE\"], \"tmp\")\n",
    "\n",
    "\n",
    "\n",
    "most_reveant_neos.show()"
   ]
  }
 ],
 "metadata": {
  "kernelspec": {
   "display_name": ".venv",
   "language": "python",
   "name": "python3"
  },
  "language_info": {
   "codemirror_mode": {
    "name": "ipython",
    "version": 3
   },
   "file_extension": ".py",
   "mimetype": "text/x-python",
   "name": "python",
   "nbconvert_exporter": "python",
   "pygments_lexer": "ipython3",
   "version": "3.11.4"
  }
 },
 "nbformat": 4,
 "nbformat_minor": 2
}
