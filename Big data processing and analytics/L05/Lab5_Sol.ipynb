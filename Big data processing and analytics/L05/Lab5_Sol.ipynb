{
 "cells": [
  {
   "cell_type": "code",
   "execution_count": 1,
   "metadata": {},
   "outputs": [],
   "source": [
    "from typing import Tuple"
   ]
  },
  {
   "cell_type": "code",
   "execution_count": 2,
   "metadata": {},
   "outputs": [],
   "source": [
    "# Set input and output folders\n",
    "# I also define a variable containing the prefix I am interested in\n",
    "inputPath  = \"/data/students/bigdata-01QYD/Lab2/\"\n",
    "outputPath = \"res_out_Lab5/\" \n",
    "outputPath2 = 'res_out_Lab5_Task3'\n",
    "prefix = \"ho\""
   ]
  },
  {
   "cell_type": "code",
   "execution_count": 3,
   "metadata": {},
   "outputs": [
    {
     "ename": "NameError",
     "evalue": "name 'sc' is not defined",
     "output_type": "error",
     "traceback": [
      "\u001b[1;31m---------------------------------------------------------------------------\u001b[0m",
      "\u001b[1;31mNameError\u001b[0m                                 Traceback (most recent call last)",
      "Cell \u001b[1;32mIn[3], line 2\u001b[0m\n\u001b[0;32m      1\u001b[0m \u001b[38;5;66;03m# Read input data\u001b[39;00m\n\u001b[1;32m----> 2\u001b[0m wordsFrequenciesRDD \u001b[38;5;241m=\u001b[39m \u001b[43msc\u001b[49m\u001b[38;5;241m.\u001b[39mtextFile(inputPath)\n",
      "\u001b[1;31mNameError\u001b[0m: name 'sc' is not defined"
     ]
    }
   ],
   "source": [
    "# Read input data\n",
    "wordsFrequenciesRDD = sc.textFile(inputPath)"
   ]
  },
  {
   "cell_type": "code",
   "execution_count": null,
   "metadata": {},
   "outputs": [],
   "source": [
    "# Task 1"
   ]
  },
  {
   "cell_type": "code",
   "execution_count": null,
   "metadata": {},
   "outputs": [],
   "source": [
    "# Keep only the lines containing words that start with the prefix “ho”\n",
    "selectedLinesRDD = wordsFrequenciesRDD.filter(lambda line: line.startswith(prefix))"
   ]
  },
  {
   "cell_type": "code",
   "execution_count": null,
   "metadata": {},
   "outputs": [
    {
     "name": "stdout",
     "output_type": "stream",
     "text": [
      "Num. selected lines: 1913\n"
     ]
    }
   ],
   "source": [
    "# Print on the standard output the following statistics\n",
    "# - The number of selected lines\n",
    "numLines = selectedLinesRDD.count()\n",
    "print(\"Num. selected lines: \"+ str(numLines) ) "
   ]
  },
  {
   "cell_type": "code",
   "execution_count": null,
   "metadata": {},
   "outputs": [
    {
     "name": "stdout",
     "output_type": "stream",
     "text": [
      "Maximum frequency: 39399.0\n"
     ]
    }
   ],
   "source": [
    "# Print on the standard output the following statistics\n",
    "# - The maximum frequency (maxfreq) among the ones of the selected lines (i.e., the maximum value of freq in the lines obtained by applying the filter).\n",
    "\n",
    "# Select the values of frequency\n",
    "maxfreqRDD = selectedLinesRDD.map(lambda line: float(line.split(\"\\t\")[1]))\n",
    "\n",
    "# Compute the maximu value\n",
    "maxfreq = maxfreqRDD.reduce(lambda freq1, freq2: max(freq1, freq2) )\n",
    "\n",
    "# Print maxfreq on the standard output\n",
    "print(\"Maximum frequency: \"+ str(maxfreq) ) "
   ]
  },
  {
   "cell_type": "code",
   "execution_count": null,
   "metadata": {},
   "outputs": [],
   "source": [
    "# Task 2\n",
    "# Your application must select those lines that contain words with a frequency (freq) \n",
    "# greater than 80% of the maximum frequency (maxfreq) computed before."
   ]
  },
  {
   "cell_type": "code",
   "execution_count": null,
   "metadata": {},
   "outputs": [],
   "source": [
    "# Keep only the lines with a frequency freq greater than 0.8*maxfreq.\n",
    "selectedLinesMaxFreqRDD = selectedLinesRDD.filter(lambda line: float(line.split(\"\\t\")[1])>0.8*maxfreq)"
   ]
  },
  {
   "cell_type": "code",
   "execution_count": null,
   "metadata": {},
   "outputs": [
    {
     "name": "stdout",
     "output_type": "stream",
     "text": [
      "Num. selected lines with freq > 0.8*maxfreq: 3\n"
     ]
    }
   ],
   "source": [
    "# Count the number of selected lines and print this number on the standard output\n",
    "numLinesMaxfreq = selectedLinesMaxFreqRDD.count()\n",
    "print(\"Num. selected lines with freq > 0.8*maxfreq: \"+ str(numLinesMaxfreq) ) "
   ]
  },
  {
   "cell_type": "code",
   "execution_count": null,
   "metadata": {},
   "outputs": [],
   "source": [
    "# Select only the words (first field)\n",
    "selectedWordsRDD = selectedLinesMaxFreqRDD.map(lambda line: line.split(\"\\t\")[0])"
   ]
  },
  {
   "cell_type": "code",
   "execution_count": null,
   "metadata": {},
   "outputs": [],
   "source": [
    "# Save the selected words (without frequency) in an output folder (one word per line)\n",
    "selectedWordsRDD.saveAsTextFile(outputPath)"
   ]
  },
  {
   "cell_type": "code",
   "execution_count": null,
   "metadata": {},
   "outputs": [],
   "source": [
    "# Task 3\n",
    "# Your application must compute all the six groups and determine the number of words belonging to each group\n",
    "# each group is defined based on word frequency\n",
    "# group 0: [0, 99]\n",
    "# group 1: [100, 199]\n",
    "# group 2: [200, 299]\n",
    "# group 3: [300, 399]\n",
    "# group 4: [400, 499]\n",
    "# group 5: [500, +inf)\n",
    "def compute_group(line: str) -> Tuple[str, int]:\n",
    "    fields = line.split('\\t')\n",
    "    freq = int(fields[1])\n",
    "    if freq >= 500:\n",
    "        group = 5\n",
    "    else:\n",
    "        group = freq // 100\n",
    "    return (f'Group {group}', 1)\n",
    "\n",
    "# compute the pair RDD with key = group, value = +1\n",
    "groupPairRDD = wordsFrequenciesRDD.map(compute_group)"
   ]
  },
  {
   "cell_type": "code",
   "execution_count": null,
   "metadata": {},
   "outputs": [],
   "source": [
    "# use a reduceByKey to sum all the +1 in the value part\n",
    "countPerGroupPairRDD = groupPairRDD.reduceByKey(lambda v1, v2: v1 + v2)"
   ]
  },
  {
   "cell_type": "code",
   "execution_count": null,
   "metadata": {},
   "outputs": [],
   "source": [
    "# Save groups\n",
    "countPerGroupPairRDD.saveAsTextFile(outputPath2)"
   ]
  }
 ],
 "metadata": {
  "kernelspec": {
   "display_name": ".venv",
   "language": "python",
   "name": "python3"
  },
  "language_info": {
   "codemirror_mode": {
    "name": "ipython",
    "version": 3
   },
   "file_extension": ".py",
   "mimetype": "text/x-python",
   "name": "python",
   "nbconvert_exporter": "python",
   "pygments_lexer": "ipython3",
   "version": "3.11.4"
  }
 },
 "nbformat": 4,
 "nbformat_minor": 4
}
